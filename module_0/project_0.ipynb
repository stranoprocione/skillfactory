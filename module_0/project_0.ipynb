{
 "cells": [
  {
   "cell_type": "code",
   "execution_count": 25,
   "metadata": {},
   "outputs": [
    {
     "name": "stdout",
     "output_type": "stream",
     "text": [
      "Загадано число от 1 до 100\n",
      "Ваш алгоритм угадывает число в среднем за 8 попыток\n"
     ]
    },
    {
     "data": {
      "text/plain": [
       "8"
      ]
     },
     "execution_count": 25,
     "metadata": {},
     "output_type": "execute_result"
    }
   ],
   "source": [
    "import numpy as np\n",
    "\n",
    "try_count = 0  # attempt counter\n",
    "print(\"Загадано число от 1 до 100\")\n",
    "\n",
    "def game_core(number):\n",
    "    \"\"\"Set random number and border for it. Every iteration change border\"\"\"\n",
    "    try_count = 1\n",
    "    predict = np.random.randint(1, 101)\n",
    "    over_number = 101\n",
    "    less_number = 1\n",
    "    \n",
    "    while number != predict:\n",
    "        try_count += 1\n",
    "        if number > predict: \n",
    "            less_number = predict\n",
    "        elif number < predict:\n",
    "            over_number = predict\n",
    "        predict = np.random.randint(less_number, over_number)\n",
    "        \n",
    "    return try_count  # break if guess\n",
    "        \n",
    "        \n",
    "def score_game(core):\n",
    "    \"\"\"To know how quickly the program guess answer run the game 1000 times\"\"\"\n",
    "\n",
    "    count_ls = []\n",
    "    np.random.seed(1)  # fix RANDOM SEED for reproducible experiment!\n",
    "    random_array = np.random.randint(1, 101, size=1000)\n",
    "    for number in random_array:\n",
    "        count_ls.append(core(number))\n",
    "    score = int(np.mean(count_ls))\n",
    "    print(f\"Ваш алгоритм угадывает число в среднем за {score} попыток\")\n",
    "    return score\n",
    "    \n",
    "\n",
    "# Check\n",
    "score_game(game_core)"
   ]
  },
  {
   "cell_type": "code",
   "execution_count": null,
   "metadata": {},
   "outputs": [],
   "source": []
  }
 ],
 "metadata": {
  "kernelspec": {
   "display_name": "Python 3",
   "language": "python",
   "name": "python3"
  },
  "language_info": {
   "codemirror_mode": {
    "name": "ipython",
    "version": 3
   },
   "file_extension": ".py",
   "mimetype": "text/x-python",
   "name": "python",
   "nbconvert_exporter": "python",
   "pygments_lexer": "ipython3",
   "version": "3.8.5"
  }
 },
 "nbformat": 4,
 "nbformat_minor": 4
}
